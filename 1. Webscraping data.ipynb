{
 "cells": [
  {
   "cell_type": "code",
   "execution_count": 36,
   "id": "508bc975",
   "metadata": {},
   "outputs": [],
   "source": [
    "import pandas as pd\n",
    "import pickle\n",
    "import numpy as np\n",
    "pd.set_option('display.max_columns', None)\n",
    "import datetime as dt"
   ]
  },
  {
   "cell_type": "code",
   "execution_count": 20,
   "id": "6cb9d16f",
   "metadata": {},
   "outputs": [],
   "source": [
    "from bs4 import BeautifulSoup\n",
    "import requests\n",
    "import warnings\n",
    "warnings.filterwarnings(\"ignore\")"
   ]
  },
  {
   "cell_type": "code",
   "execution_count": 21,
   "id": "87fd613f",
   "metadata": {},
   "outputs": [],
   "source": [
    "from selenium import webdriver\n",
    "from selenium.webdriver.common.keys import Keys\n",
    "\n",
    "chromedriver = \"/Applications/chromedriver\" # path to the chromedriver executable\n",
    "os.environ[\"webdriver.chrome.driver\"] = chromedriver"
   ]
  },
  {
   "cell_type": "code",
   "execution_count": 22,
   "id": "77c28ae4",
   "metadata": {},
   "outputs": [],
   "source": [
    "driver = webdriver.Chrome(chromedriver)"
   ]
  },
  {
   "cell_type": "code",
   "execution_count": 23,
   "id": "0512a5eb",
   "metadata": {},
   "outputs": [],
   "source": [
    "page='https://www1.nyc.gov/site/finance/taxes/property-rolling-sales-data.page'"
   ]
  },
  {
   "cell_type": "code",
   "execution_count": 24,
   "id": "c3314197",
   "metadata": {},
   "outputs": [],
   "source": [
    "driver.get(page)\n",
    "soup = BeautifulSoup(driver.page_source, 'html.parser')"
   ]
  },
  {
   "cell_type": "code",
   "execution_count": 25,
   "id": "c7530807",
   "metadata": {},
   "outputs": [],
   "source": [
    "Manhattan_button=driver.find_element_by_xpath('//*[@id=\"1411686949873\"]/div/div/div[2]/div/table/tbody/tr[2]/td[3]/a')\n",
    "Bronx_button=driver.find_element_by_xpath('//*[@id=\"1411686949873\"]/div/div/div[2]/div/table/tbody/tr[3]/td[3]/a')\n",
    "Brooklyn_button=driver.find_element_by_xpath('//*[@id=\"1411686949873\"]/div/div/div[2]/div/table/tbody/tr[4]/td[3]/a')\n",
    "Queens_button=driver.find_element_by_xpath('//*[@id=\"1411686949873\"]/div/div/div[2]/div/table/tbody/tr[5]/td[3]/a')\n",
    "Staten_Island_button=driver.find_element_by_xpath('//*[@id=\"1411686949873\"]/div/div/div[2]/div/table/tbody/tr[6]/td[3]/a')"
   ]
  },
  {
   "cell_type": "code",
   "execution_count": 26,
   "id": "dacab07b",
   "metadata": {},
   "outputs": [],
   "source": [
    "Manhattan_button.click()"
   ]
  },
  {
   "cell_type": "code",
   "execution_count": 27,
   "id": "689a56d7",
   "metadata": {},
   "outputs": [],
   "source": [
    "Bronx_button.click()"
   ]
  },
  {
   "cell_type": "code",
   "execution_count": 32,
   "id": "6a129742",
   "metadata": {},
   "outputs": [],
   "source": [
    "Brooklyn_button.click()"
   ]
  },
  {
   "cell_type": "code",
   "execution_count": 29,
   "id": "ce52bbd3",
   "metadata": {},
   "outputs": [],
   "source": [
    "Queens_button.click()"
   ]
  },
  {
   "cell_type": "code",
   "execution_count": 30,
   "id": "5da3e209",
   "metadata": {},
   "outputs": [],
   "source": [
    "Staten_Island_button.click()"
   ]
  },
  {
   "cell_type": "code",
   "execution_count": 33,
   "id": "d181c3ec",
   "metadata": {},
   "outputs": [],
   "source": [
    "pd1=(pd.read_excel('/Users/Layla/Downloads/rollingsales_bronx.xlsx', skiprows=4).dropna(how='all', axis=1))\n",
    "pd2=(pd.read_excel('/Users/Layla/Downloads/rollingsales_brooklyn.xlsx', skiprows=4).dropna(how='all', axis=1))\n",
    "pd3=(pd.read_excel('/Users/Layla/Downloads/rollingsales_manhattan.xlsx', skiprows=4).dropna(how='all', axis=1))\n",
    "pd4=(pd.read_excel('/Users/Layla/Downloads/rollingsales_queens.xlsx', skiprows=4).dropna(how='all', axis=1))\n",
    "pd5=(pd.read_excel('/Users/Layla/Downloads/rollingsales_statenisland.xlsx', skiprows=4).dropna(how='all', axis=1))"
   ]
  },
  {
   "cell_type": "code",
   "execution_count": 37,
   "id": "ae3f5eac",
   "metadata": {},
   "outputs": [],
   "source": [
    "df=pd.concat([pd1, pd2,pd3,pd4,pd5], axis=0).reset_index(drop=True)"
   ]
  },
  {
   "cell_type": "code",
   "execution_count": 38,
   "id": "6e251da2",
   "metadata": {},
   "outputs": [
    {
     "data": {
      "text/html": [
       "<div>\n",
       "<style scoped>\n",
       "    .dataframe tbody tr th:only-of-type {\n",
       "        vertical-align: middle;\n",
       "    }\n",
       "\n",
       "    .dataframe tbody tr th {\n",
       "        vertical-align: top;\n",
       "    }\n",
       "\n",
       "    .dataframe thead th {\n",
       "        text-align: right;\n",
       "    }\n",
       "</style>\n",
       "<table border=\"1\" class=\"dataframe\">\n",
       "  <thead>\n",
       "    <tr style=\"text-align: right;\">\n",
       "      <th></th>\n",
       "      <th>BOROUGH</th>\n",
       "      <th>NEIGHBORHOOD</th>\n",
       "      <th>BUILDING CLASS CATEGORY</th>\n",
       "      <th>TAX CLASS AT PRESENT</th>\n",
       "      <th>BLOCK</th>\n",
       "      <th>LOT</th>\n",
       "      <th>BUILDING CLASS AT PRESENT</th>\n",
       "      <th>ADDRESS</th>\n",
       "      <th>APARTMENT NUMBER</th>\n",
       "      <th>ZIP CODE</th>\n",
       "      <th>RESIDENTIAL UNITS</th>\n",
       "      <th>COMMERCIAL UNITS</th>\n",
       "      <th>TOTAL UNITS</th>\n",
       "      <th>LAND SQUARE FEET</th>\n",
       "      <th>GROSS SQUARE FEET</th>\n",
       "      <th>YEAR BUILT</th>\n",
       "      <th>TAX CLASS AT TIME OF SALE</th>\n",
       "      <th>BUILDING CLASS AT TIME OF SALE</th>\n",
       "      <th>SALE PRICE</th>\n",
       "      <th>SALE DATE</th>\n",
       "    </tr>\n",
       "  </thead>\n",
       "  <tbody>\n",
       "    <tr>\n",
       "      <th>0</th>\n",
       "      <td>2</td>\n",
       "      <td>BATHGATE</td>\n",
       "      <td>01 ONE FAMILY DWELLINGS</td>\n",
       "      <td>1</td>\n",
       "      <td>3037</td>\n",
       "      <td>101</td>\n",
       "      <td>S0</td>\n",
       "      <td>443 EAST 180 STREET</td>\n",
       "      <td>NaN</td>\n",
       "      <td>10457.0</td>\n",
       "      <td>1.0</td>\n",
       "      <td>2.0</td>\n",
       "      <td>3.0</td>\n",
       "      <td>1293.0</td>\n",
       "      <td>2820.0</td>\n",
       "      <td>1952.0</td>\n",
       "      <td>1</td>\n",
       "      <td>S0</td>\n",
       "      <td>720000</td>\n",
       "      <td>2022-02-23</td>\n",
       "    </tr>\n",
       "    <tr>\n",
       "      <th>1</th>\n",
       "      <td>2</td>\n",
       "      <td>BATHGATE</td>\n",
       "      <td>01 ONE FAMILY DWELLINGS</td>\n",
       "      <td>1</td>\n",
       "      <td>3039</td>\n",
       "      <td>29</td>\n",
       "      <td>A5</td>\n",
       "      <td>2327 WASHINGTON AVE</td>\n",
       "      <td>NaN</td>\n",
       "      <td>10458.0</td>\n",
       "      <td>1.0</td>\n",
       "      <td>0.0</td>\n",
       "      <td>1.0</td>\n",
       "      <td>1095.0</td>\n",
       "      <td>1260.0</td>\n",
       "      <td>1910.0</td>\n",
       "      <td>1</td>\n",
       "      <td>A5</td>\n",
       "      <td>499999</td>\n",
       "      <td>2022-04-28</td>\n",
       "    </tr>\n",
       "    <tr>\n",
       "      <th>2</th>\n",
       "      <td>2</td>\n",
       "      <td>BATHGATE</td>\n",
       "      <td>01 ONE FAMILY DWELLINGS</td>\n",
       "      <td>1</td>\n",
       "      <td>3039</td>\n",
       "      <td>63</td>\n",
       "      <td>A1</td>\n",
       "      <td>469 EAST 185 STREET</td>\n",
       "      <td>NaN</td>\n",
       "      <td>10458.0</td>\n",
       "      <td>1.0</td>\n",
       "      <td>0.0</td>\n",
       "      <td>1.0</td>\n",
       "      <td>1650.0</td>\n",
       "      <td>1296.0</td>\n",
       "      <td>1910.0</td>\n",
       "      <td>1</td>\n",
       "      <td>A1</td>\n",
       "      <td>599000</td>\n",
       "      <td>2022-05-17</td>\n",
       "    </tr>\n",
       "  </tbody>\n",
       "</table>\n",
       "</div>"
      ],
      "text/plain": [
       "   BOROUGH NEIGHBORHOOD  BUILDING CLASS CATEGORY TAX CLASS AT PRESENT  BLOCK  \\\n",
       "0        2     BATHGATE  01 ONE FAMILY DWELLINGS                    1   3037   \n",
       "1        2     BATHGATE  01 ONE FAMILY DWELLINGS                    1   3039   \n",
       "2        2     BATHGATE  01 ONE FAMILY DWELLINGS                    1   3039   \n",
       "\n",
       "   LOT BUILDING CLASS AT PRESENT              ADDRESS APARTMENT NUMBER  \\\n",
       "0  101                        S0  443 EAST 180 STREET              NaN   \n",
       "1   29                        A5  2327 WASHINGTON AVE              NaN   \n",
       "2   63                        A1  469 EAST 185 STREET              NaN   \n",
       "\n",
       "   ZIP CODE  RESIDENTIAL UNITS  COMMERCIAL UNITS  TOTAL UNITS  \\\n",
       "0   10457.0                1.0               2.0          3.0   \n",
       "1   10458.0                1.0               0.0          1.0   \n",
       "2   10458.0                1.0               0.0          1.0   \n",
       "\n",
       "   LAND SQUARE FEET  GROSS SQUARE FEET  YEAR BUILT  TAX CLASS AT TIME OF SALE  \\\n",
       "0            1293.0             2820.0      1952.0                          1   \n",
       "1            1095.0             1260.0      1910.0                          1   \n",
       "2            1650.0             1296.0      1910.0                          1   \n",
       "\n",
       "  BUILDING CLASS AT TIME OF SALE  SALE PRICE  SALE DATE  \n",
       "0                             S0      720000 2022-02-23  \n",
       "1                             A5      499999 2022-04-28  \n",
       "2                             A1      599000 2022-05-17  "
      ]
     },
     "execution_count": 38,
     "metadata": {},
     "output_type": "execute_result"
    }
   ],
   "source": [
    "df.head(3)"
   ]
  },
  {
   "cell_type": "code",
   "execution_count": 39,
   "id": "650c9b3f",
   "metadata": {},
   "outputs": [],
   "source": [
    "df.columns = ['BOROUGH', 'NEIGHBORHOOD', 'BUILDING_CLASS_CATEGORY', 'TAX_CLASS_AT_PRESENT','BLOCK','LOT','BUILDING_CLASS_AT_PRESENT','ADDRESS','APARTMENT_NUMBER','ZIP_CODE','RESIDENTIAL_UNITS','COMMERCIAL_UNITS','TOTAL_UNITS','LAND_SQUARE_FEET','GROSS_SQUARE_FEET','YEAR_BUILT','TAX_CLASS_AT_TIME_OF_SALE','BUILDING_CLASS_AT_TIME_OF_SALE','SALE_PRICE','SALE_DATE']"
   ]
  },
  {
   "cell_type": "code",
   "execution_count": 40,
   "id": "e418e4db",
   "metadata": {},
   "outputs": [
    {
     "name": "stdout",
     "output_type": "stream",
     "text": [
      "<class 'pandas.core.frame.DataFrame'>\n",
      "RangeIndex: 98270 entries, 0 to 98269\n",
      "Data columns (total 20 columns):\n",
      " #   Column                          Non-Null Count  Dtype         \n",
      "---  ------                          --------------  -----         \n",
      " 0   BOROUGH                         98270 non-null  int64         \n",
      " 1   NEIGHBORHOOD                    98270 non-null  object        \n",
      " 2   BUILDING_CLASS_CATEGORY         98270 non-null  object        \n",
      " 3   TAX_CLASS_AT_PRESENT            98210 non-null  object        \n",
      " 4   BLOCK                           98270 non-null  int64         \n",
      " 5   LOT                             98270 non-null  int64         \n",
      " 6   BUILDING_CLASS_AT_PRESENT       98210 non-null  object        \n",
      " 7   ADDRESS                         98270 non-null  object        \n",
      " 8   APARTMENT_NUMBER                25280 non-null  object        \n",
      " 9   ZIP_CODE                        98268 non-null  float64       \n",
      " 10  RESIDENTIAL_UNITS               74209 non-null  float64       \n",
      " 11  COMMERCIAL_UNITS                55050 non-null  float64       \n",
      " 12  TOTAL_UNITS                     77365 non-null  float64       \n",
      " 13  LAND_SQUARE_FEET                51894 non-null  float64       \n",
      " 14  GROSS_SQUARE_FEET               51894 non-null  float64       \n",
      " 15  YEAR_BUILT                      90962 non-null  float64       \n",
      " 16  TAX_CLASS_AT_TIME_OF_SALE       98270 non-null  int64         \n",
      " 17  BUILDING_CLASS_AT_TIME_OF_SALE  98270 non-null  object        \n",
      " 18  SALE_PRICE                      98270 non-null  int64         \n",
      " 19  SALE_DATE                       98270 non-null  datetime64[ns]\n",
      "dtypes: datetime64[ns](1), float64(7), int64(5), object(7)\n",
      "memory usage: 15.0+ MB\n"
     ]
    }
   ],
   "source": [
    "df.info()"
   ]
  },
  {
   "cell_type": "code",
   "execution_count": 42,
   "id": "1a76dead",
   "metadata": {},
   "outputs": [],
   "source": [
    "df.to_csv('raw_data.csv',index=False)"
   ]
  },
  {
   "cell_type": "code",
   "execution_count": null,
   "id": "a0ef39ec",
   "metadata": {},
   "outputs": [],
   "source": []
  },
  {
   "cell_type": "code",
   "execution_count": null,
   "id": "bc502a18",
   "metadata": {},
   "outputs": [],
   "source": []
  },
  {
   "cell_type": "code",
   "execution_count": null,
   "id": "6ab40975",
   "metadata": {},
   "outputs": [],
   "source": []
  },
  {
   "cell_type": "code",
   "execution_count": null,
   "id": "82fbdf5b",
   "metadata": {},
   "outputs": [],
   "source": []
  },
  {
   "cell_type": "code",
   "execution_count": null,
   "id": "c90e1457",
   "metadata": {},
   "outputs": [],
   "source": []
  },
  {
   "cell_type": "code",
   "execution_count": null,
   "id": "5fc2fb9d",
   "metadata": {},
   "outputs": [],
   "source": []
  },
  {
   "cell_type": "code",
   "execution_count": null,
   "id": "bce813b0",
   "metadata": {},
   "outputs": [],
   "source": []
  },
  {
   "cell_type": "code",
   "execution_count": null,
   "id": "d7042051",
   "metadata": {},
   "outputs": [],
   "source": []
  },
  {
   "cell_type": "code",
   "execution_count": null,
   "id": "51bdb513",
   "metadata": {},
   "outputs": [],
   "source": []
  }
 ],
 "metadata": {
  "kernelspec": {
   "display_name": "Python 3 (ipykernel)",
   "language": "python",
   "name": "python3"
  },
  "language_info": {
   "codemirror_mode": {
    "name": "ipython",
    "version": 3
   },
   "file_extension": ".py",
   "mimetype": "text/x-python",
   "name": "python",
   "nbconvert_exporter": "python",
   "pygments_lexer": "ipython3",
   "version": "3.9.7"
  }
 },
 "nbformat": 4,
 "nbformat_minor": 5
}
